{
    "cells": [
        {
            "cell_type": "markdown",
            "metadata": {},
            "source": "#### A description of the problem and a discussion of the background. (15 marks)\n#### A description of the data and how it will be used to solve the problem. (15 marks)\n\nFor the second week, the final deliverables of the project will be:\n\n#### A link to your Notebook on your Github repository, showing your code. (15 marks)\n#### A full report consisting of all of the following components (15 marks):\n- Introduction where you discuss the business problem and who would be interested in this project.\n- Data where you describe the data that will be used to solve the problem and the source of the data.\n- Methodology section which represents the main component of the report where you discuss and describe any exploratory data analysis that you did, any inferential statistical testing that you performed, if any, and what machine learnings were used and why.\n- Results section where you discuss the results.\n- Discussion section where you discuss any observations you noted and any recommendations you can make based on the results.\n- Conclusion section where you conclude the report."
        },
        {
            "cell_type": "markdown",
            "metadata": {},
            "source": "# Introduction \n\n#### I am always passionate about food and I would like to open a Chinese restaurant in the United States. Entering in this competitive industry I need to choose the best location to open my restaurant in order to increase the possibility of success. \n\n#### To reducing the marketing cost and gaining external economies of scale, I would like to open my restaurant in the Chinese community and next to other Chinese restaurants. Since other Chinese restaurants had already obtained a certain number of customers, so if their customers notice there is a new restaurant opened maybe they would like to give it a try. In this project, I would like to find out where is the good spot for me to open the restaurant based on the Yelp data I got. "
        },
        {
            "cell_type": "markdown",
            "metadata": {},
            "source": "# Description of data\n#### The data we need is the location where consists of many Chinese restaurant.\n#### The "
        }
    ],
    "metadata": {
        "kernelspec": {
            "display_name": "Python 3.6",
            "language": "python",
            "name": "python3"
        },
        "language_info": {
            "codemirror_mode": {
                "name": "ipython",
                "version": 3
            },
            "file_extension": ".py",
            "mimetype": "text/x-python",
            "name": "python",
            "nbconvert_exporter": "python",
            "pygments_lexer": "ipython3",
            "version": "3.6.9"
        }
    },
    "nbformat": 4,
    "nbformat_minor": 1
}